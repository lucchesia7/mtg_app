{
 "cells": [
  {
   "cell_type": "code",
   "execution_count": 39,
   "metadata": {},
   "outputs": [],
   "source": [
    "from scryfall_classes import Data_Handling"
   ]
  },
  {
   "cell_type": "code",
   "execution_count": 156,
   "metadata": {},
   "outputs": [
    {
     "name": "stdout",
     "output_type": "stream",
     "text": [
      "CPU times: total: 1.06 s\n",
      "Wall time: 1.07 s\n"
     ]
    },
    {
     "data": {
      "text/html": [
       "<style>#sk-container-id-2 {color: black;background-color: white;}#sk-container-id-2 pre{padding: 0;}#sk-container-id-2 div.sk-toggleable {background-color: white;}#sk-container-id-2 label.sk-toggleable__label {cursor: pointer;display: block;width: 100%;margin-bottom: 0;padding: 0.3em;box-sizing: border-box;text-align: center;}#sk-container-id-2 label.sk-toggleable__label-arrow:before {content: \"▸\";float: left;margin-right: 0.25em;color: #696969;}#sk-container-id-2 label.sk-toggleable__label-arrow:hover:before {color: black;}#sk-container-id-2 div.sk-estimator:hover label.sk-toggleable__label-arrow:before {color: black;}#sk-container-id-2 div.sk-toggleable__content {max-height: 0;max-width: 0;overflow: hidden;text-align: left;background-color: #f0f8ff;}#sk-container-id-2 div.sk-toggleable__content pre {margin: 0.2em;color: black;border-radius: 0.25em;background-color: #f0f8ff;}#sk-container-id-2 input.sk-toggleable__control:checked~div.sk-toggleable__content {max-height: 200px;max-width: 100%;overflow: auto;}#sk-container-id-2 input.sk-toggleable__control:checked~label.sk-toggleable__label-arrow:before {content: \"▾\";}#sk-container-id-2 div.sk-estimator input.sk-toggleable__control:checked~label.sk-toggleable__label {background-color: #d4ebff;}#sk-container-id-2 div.sk-label input.sk-toggleable__control:checked~label.sk-toggleable__label {background-color: #d4ebff;}#sk-container-id-2 input.sk-hidden--visually {border: 0;clip: rect(1px 1px 1px 1px);clip: rect(1px, 1px, 1px, 1px);height: 1px;margin: -1px;overflow: hidden;padding: 0;position: absolute;width: 1px;}#sk-container-id-2 div.sk-estimator {font-family: monospace;background-color: #f0f8ff;border: 1px dotted black;border-radius: 0.25em;box-sizing: border-box;margin-bottom: 0.5em;}#sk-container-id-2 div.sk-estimator:hover {background-color: #d4ebff;}#sk-container-id-2 div.sk-parallel-item::after {content: \"\";width: 100%;border-bottom: 1px solid gray;flex-grow: 1;}#sk-container-id-2 div.sk-label:hover label.sk-toggleable__label {background-color: #d4ebff;}#sk-container-id-2 div.sk-serial::before {content: \"\";position: absolute;border-left: 1px solid gray;box-sizing: border-box;top: 0;bottom: 0;left: 50%;z-index: 0;}#sk-container-id-2 div.sk-serial {display: flex;flex-direction: column;align-items: center;background-color: white;padding-right: 0.2em;padding-left: 0.2em;position: relative;}#sk-container-id-2 div.sk-item {position: relative;z-index: 1;}#sk-container-id-2 div.sk-parallel {display: flex;align-items: stretch;justify-content: center;background-color: white;position: relative;}#sk-container-id-2 div.sk-item::before, #sk-container-id-2 div.sk-parallel-item::before {content: \"\";position: absolute;border-left: 1px solid gray;box-sizing: border-box;top: 0;bottom: 0;left: 50%;z-index: -1;}#sk-container-id-2 div.sk-parallel-item {display: flex;flex-direction: column;z-index: 1;position: relative;background-color: white;}#sk-container-id-2 div.sk-parallel-item:first-child::after {align-self: flex-end;width: 50%;}#sk-container-id-2 div.sk-parallel-item:last-child::after {align-self: flex-start;width: 50%;}#sk-container-id-2 div.sk-parallel-item:only-child::after {width: 0;}#sk-container-id-2 div.sk-dashed-wrapped {border: 1px dashed gray;margin: 0 0.4em 0.5em 0.4em;box-sizing: border-box;padding-bottom: 0.4em;background-color: white;}#sk-container-id-2 div.sk-label label {font-family: monospace;font-weight: bold;display: inline-block;line-height: 1.2em;}#sk-container-id-2 div.sk-label-container {text-align: center;}#sk-container-id-2 div.sk-container {/* jupyter's `normalize.less` sets `[hidden] { display: none; }` but bootstrap.min.css set `[hidden] { display: none !important; }` so we also need the `!important` here to be able to override the default hidden behavior on the sphinx rendered scikit-learn.org. See: https://github.com/scikit-learn/scikit-learn/issues/21755 */display: inline-block !important;position: relative;}#sk-container-id-2 div.sk-text-repr-fallback {display: none;}</style><div id=\"sk-container-id-2\" class=\"sk-top-container\"><div class=\"sk-text-repr-fallback\"><pre>NearestNeighbors(n_neighbors=10)</pre><b>In a Jupyter environment, please rerun this cell to show the HTML representation or trust the notebook. <br />On GitHub, the HTML representation is unable to render, please try loading this page with nbviewer.org.</b></div><div class=\"sk-container\" hidden><div class=\"sk-item\"><div class=\"sk-estimator sk-toggleable\"><input class=\"sk-toggleable__control sk-hidden--visually\" id=\"sk-estimator-id-2\" type=\"checkbox\" checked><label for=\"sk-estimator-id-2\" class=\"sk-toggleable__label sk-toggleable__label-arrow\">NearestNeighbors</label><div class=\"sk-toggleable__content\"><pre>NearestNeighbors(n_neighbors=10)</pre></div></div></div></div></div>"
      ],
      "text/plain": [
       "NearestNeighbors(n_neighbors=10)"
      ]
     },
     "execution_count": 156,
     "metadata": {},
     "output_type": "execute_result"
    }
   ],
   "source": [
    "%%time\n",
    "from sklearn.neighbors import NearestNeighbors\n",
    "from sklearn.feature_extraction.text import TfidfVectorizer\n",
    "def dummy_fun(doc):\n",
    "    return doc\n",
    "vect = TfidfVectorizer(tokenizer= dummy_fun,\n",
    "                        preprocessor= dummy_fun,\n",
    "                        token_pattern=None)\n",
    "vect.fit(df['lemmas'])\n",
    "dtm = vect.transform(df['lemmas'])\n",
    "\n",
    "nn = NearestNeighbors(n_neighbors = 10)\n",
    "nn.fit(dtm)\n"
   ]
  },
  {
   "cell_type": "code",
   "execution_count": 161,
   "metadata": {},
   "outputs": [],
   "source": [
    "doc = vect.transform([df.lemmas[655]])\n",
    "n_dist, n_index = nn.kneighbors(doc)"
   ]
  },
  {
   "cell_type": "code",
   "execution_count": null,
   "metadata": {},
   "outputs": [],
   "source": []
  },
  {
   "cell_type": "code",
   "execution_count": 162,
   "metadata": {},
   "outputs": [
    {
     "data": {
      "text/plain": [
       "array([[  655, 16015,   796,  1789, 13447,  6788,  9411, 20421, 23932,\n",
       "        11735]], dtype=int64)"
      ]
     },
     "execution_count": 162,
     "metadata": {},
     "output_type": "execute_result"
    }
   ],
   "source": [
    "n_index"
   ]
  },
  {
   "cell_type": "code",
   "execution_count": 27,
   "metadata": {},
   "outputs": [
    {
     "name": "stdout",
     "output_type": "stream",
     "text": [
      "As long as Static Orb is untapped, players can't untap more than two permanents during their untap steps.\n"
     ]
    }
   ],
   "source": [
    "print(f['oracle_text'][f['name'] == 'Static Orb'][0])"
   ]
  },
  {
   "cell_type": "code",
   "execution_count": 28,
   "metadata": {},
   "outputs": [
    {
     "name": "stdout",
     "output_type": "stream",
     "text": [
      "Permanents don't untap during their controllers' untap steps.\n",
      "At the beginning of each player's upkeep, that player chooses a permanent for each card in their graveyard, then untaps those permanents.\n"
     ]
    }
   ],
   "source": [
    "print(f['oracle_text'][f['name'] == 'Mist of Stagnation'][0])"
   ]
  },
  {
   "cell_type": "code",
   "execution_count": 29,
   "metadata": {},
   "outputs": [
    {
     "name": "stdout",
     "output_type": "stream",
     "text": [
      "Creatures target player controls don't untap during that player's next untap step.\n"
     ]
    }
   ],
   "source": [
    "print(f['oracle_text'][f['name'] == 'Misstep'][0])"
   ]
  },
  {
   "cell_type": "code",
   "execution_count": 164,
   "metadata": {},
   "outputs": [
    {
     "data": {
      "text/plain": [
       "[oracle_id\n",
       " 069c8fa1-fa04-4620-9356-a618158dad3e            Beast Hunt\n",
       " a89ebf63-63c9-42cd-98b4-ec852cd9b0a8        Grisly Salvage\n",
       " 08781f2a-0d43-495c-aac8-7ff7a2e5752f     Scout the Borders\n",
       " 12c03a03-36bf-487e-b8be-e55399525da5                 Mulch\n",
       " 8d7ce7b5-2e56-4060-9406-f700ce1fbb7d            Lair Delve\n",
       " 47a080c4-ff04-4f52-aca0-2b8e4f4d931e      Enduring Renewal\n",
       " 63f05280-74de-4fe3-a507-07fb125685c0          Dakra Mystic\n",
       " d6c008c7-6c87-4677-ba0e-6d95f10d10bc    Sages of the Anima\n",
       " fb431500-152c-4524-b76b-de62922ff57f                Foster\n",
       " 7b77fb85-a6d8-4f3e-8493-99ec5b5a6d67    Enshrined Memories\n",
       " Name: name, dtype: object]"
      ]
     },
     "execution_count": 164,
     "metadata": {},
     "output_type": "execute_result"
    }
   ],
   "source": [
    "for index in n_index:\n",
    "    names = [f['name'][index]]\n",
    "names\n"
   ]
  },
  {
   "cell_type": "code",
   "execution_count": null,
   "metadata": {},
   "outputs": [],
   "source": [
    "def get_10_related(card_name: str = 'Sol Ring'):\n",
    "    "
   ]
  },
  {
   "cell_type": "code",
   "execution_count": 170,
   "metadata": {},
   "outputs": [],
   "source": [
    "import pandas as pd\n",
    "df = pd.read_csv(r'C:\\Users\\Alex Lucchesi\\OneDrive\\Documents\\GitHub\\MTG_app\\src\\classes\\oracle_data.csv')"
   ]
  },
  {
   "cell_type": "code",
   "execution_count": 171,
   "metadata": {},
   "outputs": [
    {
     "data": {
      "text/html": [
       "<div>\n",
       "<style scoped>\n",
       "    .dataframe tbody tr th:only-of-type {\n",
       "        vertical-align: middle;\n",
       "    }\n",
       "\n",
       "    .dataframe tbody tr th {\n",
       "        vertical-align: top;\n",
       "    }\n",
       "\n",
       "    .dataframe thead th {\n",
       "        text-align: right;\n",
       "    }\n",
       "</style>\n",
       "<table border=\"1\" class=\"dataframe\">\n",
       "  <thead>\n",
       "    <tr style=\"text-align: right;\">\n",
       "      <th></th>\n",
       "      <th>oracle_id</th>\n",
       "      <th>object</th>\n",
       "      <th>id</th>\n",
       "      <th>multiverse_ids</th>\n",
       "      <th>mtgo_id</th>\n",
       "      <th>mtgo_foil_id</th>\n",
       "      <th>tcgplayer_id</th>\n",
       "      <th>cardmarket_id</th>\n",
       "      <th>name</th>\n",
       "      <th>lang</th>\n",
       "      <th>...</th>\n",
       "      <th>card_faces</th>\n",
       "      <th>frame_effects</th>\n",
       "      <th>tcgplayer_etched_id</th>\n",
       "      <th>promo_types</th>\n",
       "      <th>loyalty</th>\n",
       "      <th>life_modifier</th>\n",
       "      <th>hand_modifier</th>\n",
       "      <th>color_indicator</th>\n",
       "      <th>content_warning</th>\n",
       "      <th>lemmas</th>\n",
       "    </tr>\n",
       "  </thead>\n",
       "  <tbody>\n",
       "    <tr>\n",
       "      <th>0</th>\n",
       "      <td>0004ebd0-dfd6-4276-b4a6-de0003e94237</td>\n",
       "      <td>card</td>\n",
       "      <td>86bf43b1-8d4e-4759-bb2d-0b2e03ba7012</td>\n",
       "      <td>[15862]</td>\n",
       "      <td>15870.0</td>\n",
       "      <td>15871.0</td>\n",
       "      <td>3094.0</td>\n",
       "      <td>3081.0</td>\n",
       "      <td>Static Orb</td>\n",
       "      <td>en</td>\n",
       "      <td>...</td>\n",
       "      <td>NaN</td>\n",
       "      <td>NaN</td>\n",
       "      <td>NaN</td>\n",
       "      <td>NaN</td>\n",
       "      <td>NaN</td>\n",
       "      <td>NaN</td>\n",
       "      <td>NaN</td>\n",
       "      <td>NaN</td>\n",
       "      <td>NaN</td>\n",
       "      <td>['long', 'static', 'orb', 'untapped', 'player'...</td>\n",
       "    </tr>\n",
       "    <tr>\n",
       "      <th>1</th>\n",
       "      <td>0006faf6-7a61-426c-9034-579f2cfcfa83</td>\n",
       "      <td>card</td>\n",
       "      <td>7050735c-b232-47a6-a342-01795bfd0d46</td>\n",
       "      <td>[370780]</td>\n",
       "      <td>49283.0</td>\n",
       "      <td>49284.0</td>\n",
       "      <td>69965.0</td>\n",
       "      <td>262945.0</td>\n",
       "      <td>Sensory Deprivation</td>\n",
       "      <td>en</td>\n",
       "      <td>...</td>\n",
       "      <td>NaN</td>\n",
       "      <td>NaN</td>\n",
       "      <td>NaN</td>\n",
       "      <td>NaN</td>\n",
       "      <td>NaN</td>\n",
       "      <td>NaN</td>\n",
       "      <td>NaN</td>\n",
       "      <td>NaN</td>\n",
       "      <td>NaN</td>\n",
       "      <td>['enchant', 'creature', 'enchanted', 'creature...</td>\n",
       "    </tr>\n",
       "    <tr>\n",
       "      <th>2</th>\n",
       "      <td>0007c283-5b7a-4c00-9ca1-b455c8dff8c3</td>\n",
       "      <td>card</td>\n",
       "      <td>e718b21b-46d1-4844-985c-52745657b1ac</td>\n",
       "      <td>[470580]</td>\n",
       "      <td>77122.0</td>\n",
       "      <td>NaN</td>\n",
       "      <td>196536.0</td>\n",
       "      <td>391692.0</td>\n",
       "      <td>Road of Return</td>\n",
       "      <td>en</td>\n",
       "      <td>...</td>\n",
       "      <td>NaN</td>\n",
       "      <td>NaN</td>\n",
       "      <td>NaN</td>\n",
       "      <td>NaN</td>\n",
       "      <td>NaN</td>\n",
       "      <td>NaN</td>\n",
       "      <td>NaN</td>\n",
       "      <td>NaN</td>\n",
       "      <td>NaN</td>\n",
       "      <td>['choose', 'return', 'target', 'permanent', 'c...</td>\n",
       "    </tr>\n",
       "    <tr>\n",
       "      <th>3</th>\n",
       "      <td>000d5588-5a4c-434e-988d-396632ade42c</td>\n",
       "      <td>card</td>\n",
       "      <td>036ef8c9-72ac-46ce-af07-83b79d736538</td>\n",
       "      <td>[83282]</td>\n",
       "      <td>22609.0</td>\n",
       "      <td>22610.0</td>\n",
       "      <td>12835.0</td>\n",
       "      <td>12551.0</td>\n",
       "      <td>Storm Crow</td>\n",
       "      <td>en</td>\n",
       "      <td>...</td>\n",
       "      <td>NaN</td>\n",
       "      <td>NaN</td>\n",
       "      <td>NaN</td>\n",
       "      <td>NaN</td>\n",
       "      <td>NaN</td>\n",
       "      <td>NaN</td>\n",
       "      <td>NaN</td>\n",
       "      <td>NaN</td>\n",
       "      <td>NaN</td>\n",
       "      <td>['fly', 'creature', 'block', 'creature', 'flyi...</td>\n",
       "    </tr>\n",
       "    <tr>\n",
       "      <th>4</th>\n",
       "      <td>000e5d65-96c3-498b-bd01-72b1a1991850</td>\n",
       "      <td>card</td>\n",
       "      <td>b125d1e7-5d9b-4997-88b0-71bdfc19c6f2</td>\n",
       "      <td>[12380]</td>\n",
       "      <td>12637.0</td>\n",
       "      <td>12638.0</td>\n",
       "      <td>6412.0</td>\n",
       "      <td>10604.0</td>\n",
       "      <td>Walking Sponge</td>\n",
       "      <td>en</td>\n",
       "      <td>...</td>\n",
       "      <td>NaN</td>\n",
       "      <td>NaN</td>\n",
       "      <td>NaN</td>\n",
       "      <td>NaN</td>\n",
       "      <td>NaN</td>\n",
       "      <td>NaN</td>\n",
       "      <td>NaN</td>\n",
       "      <td>NaN</td>\n",
       "      <td>NaN</td>\n",
       "      <td>['t', 'target', 'creature', 'lose', 'choice', ...</td>\n",
       "    </tr>\n",
       "  </tbody>\n",
       "</table>\n",
       "<p>5 rows × 79 columns</p>\n",
       "</div>"
      ],
      "text/plain": [
       "                              oracle_id object  \\\n",
       "0  0004ebd0-dfd6-4276-b4a6-de0003e94237   card   \n",
       "1  0006faf6-7a61-426c-9034-579f2cfcfa83   card   \n",
       "2  0007c283-5b7a-4c00-9ca1-b455c8dff8c3   card   \n",
       "3  000d5588-5a4c-434e-988d-396632ade42c   card   \n",
       "4  000e5d65-96c3-498b-bd01-72b1a1991850   card   \n",
       "\n",
       "                                     id multiverse_ids  mtgo_id  mtgo_foil_id  \\\n",
       "0  86bf43b1-8d4e-4759-bb2d-0b2e03ba7012        [15862]  15870.0       15871.0   \n",
       "1  7050735c-b232-47a6-a342-01795bfd0d46       [370780]  49283.0       49284.0   \n",
       "2  e718b21b-46d1-4844-985c-52745657b1ac       [470580]  77122.0           NaN   \n",
       "3  036ef8c9-72ac-46ce-af07-83b79d736538        [83282]  22609.0       22610.0   \n",
       "4  b125d1e7-5d9b-4997-88b0-71bdfc19c6f2        [12380]  12637.0       12638.0   \n",
       "\n",
       "   tcgplayer_id  cardmarket_id                 name lang  ... card_faces  \\\n",
       "0        3094.0         3081.0           Static Orb   en  ...        NaN   \n",
       "1       69965.0       262945.0  Sensory Deprivation   en  ...        NaN   \n",
       "2      196536.0       391692.0       Road of Return   en  ...        NaN   \n",
       "3       12835.0        12551.0           Storm Crow   en  ...        NaN   \n",
       "4        6412.0        10604.0       Walking Sponge   en  ...        NaN   \n",
       "\n",
       "  frame_effects tcgplayer_etched_id promo_types  loyalty life_modifier  \\\n",
       "0           NaN                 NaN         NaN      NaN           NaN   \n",
       "1           NaN                 NaN         NaN      NaN           NaN   \n",
       "2           NaN                 NaN         NaN      NaN           NaN   \n",
       "3           NaN                 NaN         NaN      NaN           NaN   \n",
       "4           NaN                 NaN         NaN      NaN           NaN   \n",
       "\n",
       "  hand_modifier color_indicator  content_warning  \\\n",
       "0           NaN             NaN              NaN   \n",
       "1           NaN             NaN              NaN   \n",
       "2           NaN             NaN              NaN   \n",
       "3           NaN             NaN              NaN   \n",
       "4           NaN             NaN              NaN   \n",
       "\n",
       "                                              lemmas  \n",
       "0  ['long', 'static', 'orb', 'untapped', 'player'...  \n",
       "1  ['enchant', 'creature', 'enchanted', 'creature...  \n",
       "2  ['choose', 'return', 'target', 'permanent', 'c...  \n",
       "3  ['fly', 'creature', 'block', 'creature', 'flyi...  \n",
       "4  ['t', 'target', 'creature', 'lose', 'choice', ...  \n",
       "\n",
       "[5 rows x 79 columns]"
      ]
     },
     "execution_count": 171,
     "metadata": {},
     "output_type": "execute_result"
    }
   ],
   "source": [
    "df.head()"
   ]
  },
  {
   "cell_type": "code",
   "execution_count": 168,
   "metadata": {},
   "outputs": [],
   "source": [
    "from models import Model"
   ]
  },
  {
   "cell_type": "code",
   "execution_count": 176,
   "metadata": {},
   "outputs": [
    {
     "name": "stdout",
     "output_type": "stream",
     "text": [
      "['Spirit Shackle' 'Minthara, Merciless Soul' 'Dictate of Heliod'\n",
      " 'Mortivore' 'Rebbec, Architect of Ascension' 'Festercreep'\n",
      " 'Reconstruct History' 'Hour of Devastation' 'Sawback Manticore'\n",
      " 'Windscouter']\n"
     ]
    }
   ],
   "source": [
    "model = Model()\n",
    "d = model.nn('Dictate of Heliod',df)\n",
    "for v in d:\n",
    "    print(v)"
   ]
  },
  {
   "cell_type": "code",
   "execution_count": 120,
   "metadata": {},
   "outputs": [
    {
     "data": {
      "text/plain": [
       "Index(['oracle_id', 'object', 'id', 'multiverse_ids', 'mtgo_id',\n",
       "       'mtgo_foil_id', 'tcgplayer_id', 'cardmarket_id', 'name', 'lang',\n",
       "       'released_at', 'uri', 'scryfall_uri', 'layout', 'highres_image',\n",
       "       'image_status', 'image_uris', 'mana_cost', 'cmc', 'type_line',\n",
       "       'oracle_text', 'colors', 'color_identity', 'keywords', 'legalities',\n",
       "       'games', 'reserved', 'foil', 'nonfoil', 'finishes', 'oversized',\n",
       "       'promo', 'reprint', 'variation', 'set_id', 'set', 'set_name',\n",
       "       'set_type', 'set_uri', 'set_search_uri', 'scryfall_set_uri',\n",
       "       'rulings_uri', 'prints_search_uri', 'collector_number', 'digital',\n",
       "       'rarity', 'flavor_text', 'card_back_id', 'artist', 'artist_ids',\n",
       "       'illustration_id', 'border_color', 'frame', 'full_art', 'textless',\n",
       "       'booster', 'story_spotlight', 'edhrec_rank', 'prices', 'related_uris',\n",
       "       'security_stamp', 'preview', 'power', 'toughness', 'penny_rank',\n",
       "       'arena_id', 'watermark', 'produced_mana', 'all_parts', 'card_faces',\n",
       "       'frame_effects', 'tcgplayer_etched_id', 'promo_types', 'loyalty',\n",
       "       'life_modifier', 'hand_modifier', 'color_indicator', 'content_warning',\n",
       "       'lemmas'],\n",
       "      dtype='object')"
      ]
     },
     "execution_count": 120,
     "metadata": {},
     "output_type": "execute_result"
    }
   ],
   "source": [
    "df.columns"
   ]
  },
  {
   "cell_type": "code",
   "execution_count": 118,
   "metadata": {},
   "outputs": [
    {
     "data": {
      "text/plain": [
       "'https://c1.scryfall.com/file/scryfall-cards/normal/front/1/9/199cde21-5bc3-49cd-acd4-bae3af6e5881.jpg?1654118835'"
      ]
     },
     "execution_count": 118,
     "metadata": {},
     "output_type": "execute_result"
    }
   ],
   "source": [
    "import json\n",
    "import ast\n",
    "s = df[df['name'] == 'Sol Ring']['image_uris']\n",
    "# img_uri = ast.literal_eval(s['image_uris'][0])\n",
    "# img_uri['normal']\n",
    "for k in s:\n",
    "    img_dic = ast.literal_eval(k)\n",
    "img_dic['normal']\n"
   ]
  },
  {
   "cell_type": "code",
   "execution_count": 155,
   "metadata": {},
   "outputs": [
    {
     "data": {
      "text/plain": [
       "[array(['Spirit Shackle', 'Minthara, Merciless Soul', 'Dictate of Heliod',\n",
       "        'Mortivore', 'Rebbec, Architect of Ascension', 'Festercreep',\n",
       "        'Reconstruct History', 'Hour of Devastation', 'Sawback Manticore',\n",
       "        'Windscouter'], dtype=object)]"
      ]
     },
     "execution_count": 155,
     "metadata": {},
     "output_type": "execute_result"
    }
   ],
   "source": [
    "from models import Model\n",
    "\n",
    "model = Model()\n",
    "model.nn('Sol Ring',df)"
   ]
  }
 ],
 "metadata": {
  "kernelspec": {
   "display_name": "Python 3.10.4 ('MTG_app-s1q_o2-Q')",
   "language": "python",
   "name": "python3"
  },
  "language_info": {
   "codemirror_mode": {
    "name": "ipython",
    "version": 3
   },
   "file_extension": ".py",
   "mimetype": "text/x-python",
   "name": "python",
   "nbconvert_exporter": "python",
   "pygments_lexer": "ipython3",
   "version": "3.10.4"
  },
  "orig_nbformat": 4,
  "vscode": {
   "interpreter": {
    "hash": "8577dbd18df2a53904efd0018da821c16fb79fe3ce1f690622fa751b89f909eb"
   }
  }
 },
 "nbformat": 4,
 "nbformat_minor": 2
}
