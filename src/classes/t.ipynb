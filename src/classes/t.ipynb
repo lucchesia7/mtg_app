{
 "cells": [
  {
   "cell_type": "code",
   "execution_count": 1,
   "metadata": {},
   "outputs": [],
   "source": [
    "from scryfall_classes import Data_Handling"
   ]
  },
  {
   "cell_type": "code",
   "execution_count": 2,
   "metadata": {},
   "outputs": [],
   "source": [
    "import pandas as pd\n",
    "df = pd.read_csv(r'C:\\Users\\Alex Lucchesi\\OneDrive\\Documents\\GitHub\\MTG_app\\src\\classes\\oracle_data.csv')"
   ]
  },
  {
   "cell_type": "code",
   "execution_count": 6,
   "metadata": {},
   "outputs": [
    {
     "ename": "TypeError",
     "evalue": "dummy_fun() missing 1 required positional argument: 'doc'",
     "output_type": "error",
     "traceback": [
      "\u001b[1;31m---------------------------------------------------------------------------\u001b[0m",
      "\u001b[1;31mTypeError\u001b[0m                                 Traceback (most recent call last)",
      "File \u001b[1;32m<timed exec>:5\u001b[0m, in \u001b[0;36m<module>\u001b[1;34m\u001b[0m\n",
      "\u001b[1;31mTypeError\u001b[0m: dummy_fun() missing 1 required positional argument: 'doc'"
     ]
    }
   ],
   "source": [
    "%%time\n",
    "from sklearn.neighbors import NearestNeighbors\n",
    "from sklearn.feature_extraction.text import TfidfVectorizer\n",
    "def dummy_fun(doc):\n",
    "    return doc\n",
    "vect = TfidfVectorizer(tokenizer= dummy_fun,\n",
    "                        preprocessor= dummy_fun,\n",
    "                        token_pattern=None)\n",
    "vect.fit(df['lemmas'].sample(frac = 1))\n",
    "dtm = vect.transform(df['lemmas'].sample(frac=1))\n",
    "\n",
    "nn = NearestNeighbors(n_neighbors = 10)\n",
    "nn.fit(dtm)\n"
   ]
  },
  {
   "cell_type": "code",
   "execution_count": 4,
   "metadata": {},
   "outputs": [],
   "source": [
    "import pickle\n",
    "pickled_model = open('model','wb')\n",
    "pickle.dump(nn, pickled_model)\n",
    "pickled_model.close()"
   ]
  },
  {
   "cell_type": "code",
   "execution_count": 5,
   "metadata": {},
   "outputs": [],
   "source": [
    "p_vect = open('vectorizer', 'wb')\n",
    "pickle.dump()\n",
    "pickle.dump(vect, p_vect)\n",
    "p_vect.close()"
   ]
  },
  {
   "cell_type": "code",
   "execution_count": null,
   "metadata": {},
   "outputs": [],
   "source": [
    "doc = vect.transform([df.lemmas[955]])\n",
    "n_dist, n_index = nn.kneighbors(doc)"
   ]
  },
  {
   "cell_type": "code",
   "execution_count": null,
   "metadata": {},
   "outputs": [
    {
     "data": {
      "text/plain": [
       "[20960    Aspect of Mongoose\n",
       " 12787       Caldera Hellion\n",
       " 12561         Skyshroud Elf\n",
       " 11057    Snowfield Sinkhole\n",
       " 20999     Pulse of Llanowar\n",
       " 12133         Dirty Wererat\n",
       " 3969              Ebony Fly\n",
       " 19654       Everbark Shaman\n",
       " 4377          My First Tome\n",
       " 2945          Oath of Ajani\n",
       " Name: name, dtype: object]"
      ]
     },
     "execution_count": 23,
     "metadata": {},
     "output_type": "execute_result"
    }
   ],
   "source": [
    "for index in n_index:\n",
    "    names = [df['name'][index]]\n",
    "names\n"
   ]
  },
  {
   "cell_type": "code",
   "execution_count": 15,
   "metadata": {},
   "outputs": [],
   "source": [
    "from models import Model"
   ]
  },
  {
   "cell_type": "code",
   "execution_count": 16,
   "metadata": {},
   "outputs": [
    {
     "name": "stdout",
     "output_type": "stream",
     "text": [
      "['Spirit Shackle' 'Minthara, Merciless Soul' 'Dictate of Heliod'\n",
      " 'Mortivore' 'Rebbec, Architect of Ascension' 'Festercreep'\n",
      " 'Reconstruct History' 'Hour of Devastation' 'Sawback Manticore'\n",
      " 'Windscouter']\n"
     ]
    }
   ],
   "source": [
    "model = Model()\n",
    "d = model.nn('Dictate of Heliod')\n",
    "for v in d:\n",
    "    print(v)"
   ]
  },
  {
   "cell_type": "code",
   "execution_count": 14,
   "metadata": {},
   "outputs": [
    {
     "data": {
      "text/plain": [
       "[array(['Spirit Shackle', 'Minthara, Merciless Soul', 'Dictate of Heliod',\n",
       "        'Mortivore', 'Rebbec, Architect of Ascension', 'Festercreep',\n",
       "        'Reconstruct History', 'Hour of Devastation', 'Sawback Manticore',\n",
       "        'Windscouter'], dtype=object)]"
      ]
     },
     "execution_count": 14,
     "metadata": {},
     "output_type": "execute_result"
    }
   ],
   "source": [
    "from models import Model\n",
    "\n",
    "model = Model()\n",
    "model.nn('Sol Ring')"
   ]
  }
 ],
 "metadata": {
  "kernelspec": {
   "display_name": "Python 3.10.4 ('MTG_app-s1q_o2-Q')",
   "language": "python",
   "name": "python3"
  },
  "language_info": {
   "codemirror_mode": {
    "name": "ipython",
    "version": 3
   },
   "file_extension": ".py",
   "mimetype": "text/x-python",
   "name": "python",
   "nbconvert_exporter": "python",
   "pygments_lexer": "ipython3",
   "version": "3.10.4"
  },
  "orig_nbformat": 4,
  "vscode": {
   "interpreter": {
    "hash": "8577dbd18df2a53904efd0018da821c16fb79fe3ce1f690622fa751b89f909eb"
   }
  }
 },
 "nbformat": 4,
 "nbformat_minor": 2
}
