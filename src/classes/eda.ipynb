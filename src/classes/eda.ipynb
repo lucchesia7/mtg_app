{
 "cells": [
  {
   "cell_type": "code",
   "execution_count": 1,
   "metadata": {},
   "outputs": [],
   "source": [
    "import pandas as pd\n",
    "import spacy\n",
    "import scryfall_classes\n",
    "import models\n",
    "import base\n",
    "import user_functions\n",
    "import pymongo\n",
    "\n",
    "from os import getenv\n",
    "from dotenv import load_dotenv"
   ]
  },
  {
   "cell_type": "code",
   "execution_count": 2,
   "metadata": {},
   "outputs": [],
   "source": [
    "load_dotenv(r'C:\\Users\\Alex Lucchesi\\OneDrive\\Documents\\GitHub\\MTG_app\\src\\classes\\.env')\n",
    "\n",
    "user = getenv('username')\n",
    "password = getenv('password')\n",
    "cluster = getenv('cluster_address')"
   ]
  },
  {
   "cell_type": "code",
   "execution_count": 4,
   "metadata": {},
   "outputs": [],
   "source": [
    "client = pymongo.MongoClient(f\"mongodb+srv://{user}:{password}@{cluster}/?retryWrites=true&w=majority\")\n",
    "db = client.test"
   ]
  },
  {
   "cell_type": "code",
   "execution_count": 7,
   "metadata": {},
   "outputs": [],
   "source": [
    "df = pd.read_csv(r'C:\\Users\\Alex Lucchesi\\OneDrive\\Documents\\GitHub\\MTG_app\\src\\data\\oracle_data.csv')"
   ]
  },
  {
   "cell_type": "code",
   "execution_count": 5,
   "metadata": {},
   "outputs": [],
   "source": [
    "cards = db.cards"
   ]
  },
  {
   "cell_type": "code",
   "execution_count": 12,
   "metadata": {},
   "outputs": [
    {
     "ename": "TypeError",
     "evalue": "Collection.update_one() missing 1 required positional argument: 'update'",
     "output_type": "error",
     "traceback": [
      "\u001b[1;31m---------------------------------------------------------------------------\u001b[0m",
      "\u001b[1;31mTypeError\u001b[0m                                 Traceback (most recent call last)",
      "\u001b[1;32mc:\\Users\\Alex Lucchesi\\OneDrive\\Documents\\GitHub\\MTG_app\\src\\classes\\eda.ipynb Cell 6\u001b[0m in \u001b[0;36m<cell line: 1>\u001b[1;34m()\u001b[0m\n\u001b[0;32m      <a href='vscode-notebook-cell:/c%3A/Users/Alex%20Lucchesi/OneDrive/Documents/GitHub/MTG_app/src/classes/eda.ipynb#X16sZmlsZQ%3D%3D?line=0'>1</a>\u001b[0m \u001b[39mfor\u001b[39;00m x \u001b[39min\u001b[39;00m \u001b[39mrange\u001b[39m(\u001b[39mlen\u001b[39m(df)):\n\u001b[1;32m----> <a href='vscode-notebook-cell:/c%3A/Users/Alex%20Lucchesi/OneDrive/Documents/GitHub/MTG_app/src/classes/eda.ipynb#X16sZmlsZQ%3D%3D?line=1'>2</a>\u001b[0m     cards\u001b[39m.\u001b[39;49mupdate_one(df\u001b[39m.\u001b[39;49mloc[x]\u001b[39m.\u001b[39;49mto_dict(), upsert\u001b[39m=\u001b[39;49m\u001b[39mTrue\u001b[39;49;00m)\n",
      "\u001b[1;31mTypeError\u001b[0m: Collection.update_one() missing 1 required positional argument: 'update'"
     ]
    }
   ],
   "source": [
    "for x in range(len(df)):\n",
    "    cards.update_one(df.loc[x].to_dict(), upsert=True)"
   ]
  },
  {
   "cell_type": "code",
   "execution_count": 5,
   "metadata": {},
   "outputs": [],
   "source": [
    "for x in range(len(df)):\n",
    "    cards.insert_one(df.loc[x].to_dict())"
   ]
  }
 ],
 "metadata": {
  "kernelspec": {
   "display_name": "MTG_app-s1q_o2-Q",
   "language": "python",
   "name": "python3"
  },
  "language_info": {
   "codemirror_mode": {
    "name": "ipython",
    "version": 3
   },
   "file_extension": ".py",
   "mimetype": "text/x-python",
   "name": "python",
   "nbconvert_exporter": "python",
   "pygments_lexer": "ipython3",
   "version": "3.10.4 (tags/v3.10.4:9d38120, Mar 23 2022, 23:13:41) [MSC v.1929 64 bit (AMD64)]"
  },
  "orig_nbformat": 4,
  "vscode": {
   "interpreter": {
    "hash": "8577dbd18df2a53904efd0018da821c16fb79fe3ce1f690622fa751b89f909eb"
   }
  }
 },
 "nbformat": 4,
 "nbformat_minor": 2
}
