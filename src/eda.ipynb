{
 "cells": [
  {
   "cell_type": "code",
   "execution_count": 3,
   "metadata": {},
   "outputs": [],
   "source": [
    "import pandas as pd\n",
    "import spacy\n",
    "import classes.scryfall_classes as sc\n",
    "import classes.models\n",
    "import classes.base\n",
    "import classes.user_functions\n",
    "import pymongo\n",
    "\n",
    "import os\n",
    "from dotenv import load_dotenv"
   ]
  },
  {
   "cell_type": "code",
   "execution_count": 8,
   "metadata": {
    "pycharm": {
     "name": "#%%\n"
    }
   },
   "outputs": [],
   "source": [
    "df['lemmas'] = sc.Data_Handling().lemma(df)"
   ]
  }
 ],
 "metadata": {
  "kernelspec": {
   "display_name": "MTG_app-s1q_o2-Q",
   "language": "python",
   "name": "python3"
  },
  "language_info": {
   "codemirror_mode": {
    "name": "ipython",
    "version": 3
   },
   "file_extension": ".py",
   "mimetype": "text/x-python",
   "name": "python",
   "nbconvert_exporter": "python",
   "pygments_lexer": "ipython3",
   "version": "3.10.4 (tags/v3.10.4:9d38120, Mar 23 2022, 23:13:41) [MSC v.1929 64 bit (AMD64)]"
  },
  "orig_nbformat": 4,
  "vscode": {
   "interpreter": {
    "hash": "8577dbd18df2a53904efd0018da821c16fb79fe3ce1f690622fa751b89f909eb"
   }
  }
 },
 "nbformat": 4,
 "nbformat_minor": 2
}